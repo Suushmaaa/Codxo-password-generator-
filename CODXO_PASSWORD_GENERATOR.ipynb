{
  "nbformat": 4,
  "nbformat_minor": 0,
  "metadata": {
    "colab": {
      "provenance": []
    },
    "kernelspec": {
      "name": "python3",
      "display_name": "Python 3"
    },
    "language_info": {
      "name": "python"
    }
  },
  "cells": [
    {
      "cell_type": "markdown",
      "source": [
        "**MODEL 1**"
      ],
      "metadata": {
        "id": "FQw1ZmsOpAUC"
      }
    },
    {
      "cell_type": "markdown",
      "source": [
        "**Import the necessary libraries ***"
      ],
      "metadata": {
        "id": "_mQKNYt2pGLl"
      }
    },
    {
      "cell_type": "markdown",
      "source": [
        "I have imported secrets and string"
      ],
      "metadata": {
        "id": "iUuBBBGTpVT6"
      }
    },
    {
      "cell_type": "markdown",
      "source": [
        "\n",
        "\n",
        "*   Import the secrets module for generating cryptographically secure random numbers:\n",
        "\n",
        "*   Import the string module for accessing string constants\n",
        "\n"
      ],
      "metadata": {
        "id": "PF1OyEzuplq4"
      }
    },
    {
      "cell_type": "code",
      "source": [
        "import secrets\n",
        "import string"
      ],
      "metadata": {
        "id": "l6aH98M_mATa"
      },
      "execution_count": 4,
      "outputs": []
    },
    {
      "cell_type": "markdown",
      "source": [
        " We need to define the alphabet as a combination of letters, digits, and special characters"
      ],
      "metadata": {
        "id": "-i1_rSXyptmr"
      }
    },
    {
      "cell_type": "code",
      "source": [
        "letters = string.ascii_letters\n",
        "digits = string.digits\n",
        "special_chars = string.punctuation\n",
        "alphabet = letters + digits + special_chars"
      ],
      "metadata": {
        "id": "N7jgQi5DmIer"
      },
      "execution_count": 5,
      "outputs": []
    },
    {
      "cell_type": "markdown",
      "source": [
        "Used  the secrets.choice function to randomly select characters from the alphabet"
      ],
      "metadata": {
        "id": "DtVgOkbcp4kI"
      }
    },
    {
      "cell_type": "code",
      "source": [
        "password = ''.join(secrets.choice(alphabet) for _ in range(password_length))"
      ],
      "metadata": {
        "id": "fUlFxgz2mIOR"
      },
      "execution_count": 6,
      "outputs": []
    },
    {
      "cell_type": "markdown",
      "source": [
        "Print the password"
      ],
      "metadata": {
        "id": "DqgH7VWiqCG7"
      }
    },
    {
      "cell_type": "code",
      "source": [
        "print(password)"
      ],
      "metadata": {
        "colab": {
          "base_uri": "https://localhost:8080/"
        },
        "id": "_8IWXauMmT54",
        "outputId": "e5c10f2b-54e7-49e3-837b-af40dfa221ec"
      },
      "execution_count": 7,
      "outputs": [
        {
          "output_type": "stream",
          "name": "stdout",
          "text": [
            "]+T/rUbi\n"
          ]
        }
      ]
    },
    {
      "cell_type": "markdown",
      "source": [
        "It printed 12 character password as  I gave the password length as 12"
      ],
      "metadata": {
        "id": "1DXXtQPzqG5p"
      }
    },
    {
      "cell_type": "code",
      "source": [
        "password_length = 12\n",
        "password = ''.join(secrets.choice(alphabet) for _ in range(password_length))\n",
        "print(password)"
      ],
      "metadata": {
        "colab": {
          "base_uri": "https://localhost:8080/"
        },
        "id": "dc2y0ntFmZUr",
        "outputId": "5eca17e0-b389-4492-d533-1f30c4ee379f"
      },
      "execution_count": 8,
      "outputs": [
        {
          "output_type": "stream",
          "name": "stdout",
          "text": [
            "Bq+4o{QH':sD\n"
          ]
        }
      ]
    },
    {
      "cell_type": "markdown",
      "source": [
        "The below code shows the customized password and their range and tells if it weak or strong.As the input as already given not speficially by the user."
      ],
      "metadata": {
        "id": "CY4RcQK5qdOF"
      }
    },
    {
      "cell_type": "code",
      "source": [
        "import secrets\n",
        "import string\n",
        "\n",
        "class PasswordGenerator:\n",
        "    def __init__(self):\n",
        "        self.letters = string.ascii_letters\n",
        "        self.digits = string.digits\n",
        "        self.special_chars = string.punctuation\n",
        "\n",
        "    def generate_password(self, length, include_uppercase, include_digits, include_special_chars):\n",
        "        password = ''\n",
        "        if include_uppercase:\n",
        "            password += self.letters\n",
        "        if include_digits:\n",
        "            password += self.digits\n",
        "        if include_special_chars:\n",
        "            password += self.special_chars\n",
        "\n",
        "        if not password:\n",
        "            password = self.letters\n",
        "\n",
        "        password = ''.join(secrets.choice(password) for _ in range(length))\n",
        "        return password\n",
        "\n",
        "    def analyze_password_strength(self, password):\n",
        "        if len(password) < 8:\n",
        "            return \"Weak\"\n",
        "        elif len(password) >= 8 and any(char.isdigit() for char in password):\n",
        "            return \"Medium\"\n",
        "        else:\n",
        "            return \"Strong\"\n",
        "\n",
        "    def generate_passwords(self, num_passwords, length, include_uppercase, include_digits, include_special_chars):\n",
        "        passwords = []\n",
        "        for _ in range(num_passwords):\n",
        "            password = self.generate_password(length, include_uppercase, include_digits, include_special_chars)\n",
        "            passwords.append(password)\n",
        "        return passwords\n",
        "\n",
        "\n",
        "password_generator = PasswordGenerator()\n",
        "num_passwords = 5\n",
        "length = 12\n",
        "include_uppercase = True\n",
        "include_digits = True\n",
        "include_special_chars = True\n",
        "\n",
        "passwords = password_generator.generate_passwords(num_passwords, length, include_uppercase, include_digits, include_special_chars)\n",
        "\n",
        "for password in passwords:\n",
        "    print(password)\n",
        "    print(password_generator.analyze_password_strength(password))\n",
        "    print()"
      ],
      "metadata": {
        "colab": {
          "base_uri": "https://localhost:8080/"
        },
        "id": "vgVhaLO_miEF",
        "outputId": "b3fb446c-ec36-472d-e747-817a615c5787"
      },
      "execution_count": 9,
      "outputs": [
        {
          "output_type": "stream",
          "name": "stdout",
          "text": [
            "}'Is9*pa^!tM\n",
            "Medium\n",
            "\n",
            "k16]_OCaKHB(\n",
            "Medium\n",
            "\n",
            "PO5,zaoZ`0c~\n",
            "Medium\n",
            "\n",
            "8Qe:&Ie#CD|W\n",
            "Medium\n",
            "\n",
            ">Z{e@zX$`pg6\n",
            "Medium\n",
            "\n"
          ]
        }
      ]
    },
    {
      "cell_type": "markdown",
      "source": [
        "**MODEL 2**\n"
      ],
      "metadata": {
        "id": "mZiHLlmonu_I"
      }
    },
    {
      "cell_type": "markdown",
      "source": [
        "This imports the re module for using regular expressions to check for different types of characters in the password."
      ],
      "metadata": {
        "id": "OmH-lvuqq-Aw"
      }
    },
    {
      "cell_type": "code",
      "source": [
        "import re\n"
      ],
      "metadata": {
        "id": "sYXVl0YNnxKS"
      },
      "execution_count": 11,
      "outputs": []
    },
    {
      "cell_type": "markdown",
      "source": [
        "Defining the criteria for a strong password"
      ],
      "metadata": {
        "id": "fwLLfA66rIYv"
      }
    },
    {
      "cell_type": "code",
      "source": [
        "def evaluate_password(password):\n",
        "    print(f\"Password characters: {', '.join(password)}\")\n",
        "    length = len(password)\n",
        "    print(f\"Length of the password: {length}\")\n",
        "    length_criteria = length >= 8\n",
        "    upper_criteria = re.search(r'[A-Z]', password) is not None\n",
        "    lower_criteria = re.search(r'[a-z]', password) is not None\n",
        "    digit_criteria = re.search(r'\\d', password) is not None\n",
        "    special_criteria = re.search(r'[!@#$%^&*(),.?\":{}|<>]', password) is not None\n",
        "    if length_criteria and upper_criteria and lower_criteria and digit_criteria and special_criteria:\n",
        "        print(\"Password strength: Strong\")\n",
        "    else:\n",
        "        print(\"Password strength: Weak\")\n",
        "    print(f\"Length criteria met: {length_criteria}\")\n",
        "    print(f\"Uppercase criteria met: {upper_criteria}\")\n",
        "    print(f\"Lowercase criteria met: {lower_criteria}\")\n",
        "    print(f\"Digit criteria met: {digit_criteria}\")\n",
        "    print(f\"Special character criteria met: {special_criteria}\")\n"
      ],
      "metadata": {
        "id": "V989xFJGoKs8"
      },
      "execution_count": 14,
      "outputs": []
    },
    {
      "cell_type": "code",
      "source": [
        "print(f\"Password characters: {', '.join(password)}\")\n",
        "length = len(password)\n",
        "print(f\"Length of the password: {length}\")\n"
      ],
      "metadata": {
        "colab": {
          "base_uri": "https://localhost:8080/"
        },
        "id": "uGj912ven-iC",
        "outputId": "d9f6da09-6513-4af0-d58c-f909f7e721ee"
      },
      "execution_count": 17,
      "outputs": [
        {
          "output_type": "stream",
          "name": "stdout",
          "text": [
            "Password characters: Y, m, P, q, &, k, [, U, D, *, 0, X\n",
            "Length of the password: 12\n"
          ]
        }
      ]
    },
    {
      "cell_type": "code",
      "source": [
        "length_criteria = length >= 8\n",
        "upper_criteria = re.search(r'[A-Z]', password) is not None\n",
        "lower_criteria = re.search(r'[a-z]', password) is not None\n",
        "digit_criteria = re.search(r'\\d', password) is not None\n",
        "special_criteria = re.search(r'[!@#$%^&*(),.?\":{}|<>]', password) is not None\n"
      ],
      "metadata": {
        "id": "dcPgYtvLoZAa"
      },
      "execution_count": 18,
      "outputs": []
    },
    {
      "cell_type": "markdown",
      "source": [
        "This checks if all criteria are met and prints whether the password is strong or weak."
      ],
      "metadata": {
        "id": "QcrwMx-Oro0f"
      }
    },
    {
      "cell_type": "code",
      "source": [
        "if length_criteria and upper_criteria and lower_criteria and digit_criteria and special_criteria:\n",
        "    print(\"Password strength: Strong\")\n",
        "else:\n",
        "    print(\"Password strength: Weak\")\n"
      ],
      "metadata": {
        "colab": {
          "base_uri": "https://localhost:8080/"
        },
        "id": "sJ09p9N-ocZu",
        "outputId": "99c32564-810b-4a74-f4a3-08e474cdbb5e"
      },
      "execution_count": 19,
      "outputs": [
        {
          "output_type": "stream",
          "name": "stdout",
          "text": [
            "Password strength: Strong\n"
          ]
        }
      ]
    },
    {
      "cell_type": "markdown",
      "source": [
        "These lines define various criteria for a strong password. Regular expressions are used to check for uppercase letters, lowercase letters, digits, and special characters.\n"
      ],
      "metadata": {
        "id": "qlwLoYtcrhhI"
      }
    },
    {
      "cell_type": "code",
      "source": [
        "print(f\"Length criteria met: {length_criteria}\")\n",
        "print(f\"Uppercase criteria met: {upper_criteria}\")\n",
        "print(f\"Lowercase criteria met: {lower_criteria}\")\n",
        "print(f\"Digit criteria met: {digit_criteria}\")\n",
        "print(f\"Special character criteria met: {special_criteria}\")\n"
      ],
      "metadata": {
        "colab": {
          "base_uri": "https://localhost:8080/"
        },
        "id": "OSLL7tG1oiKK",
        "outputId": "464d0c10-15af-430e-f3b7-462630a51c3e"
      },
      "execution_count": 20,
      "outputs": [
        {
          "output_type": "stream",
          "name": "stdout",
          "text": [
            "Length criteria met: True\n",
            "Uppercase criteria met: True\n",
            "Lowercase criteria met: True\n",
            "Digit criteria met: True\n",
            "Special character criteria met: True\n"
          ]
        }
      ]
    },
    {
      "cell_type": "code",
      "source": [
        "password = input(\"Enter the password: \")\n",
        "evaluate_password(password)\n"
      ],
      "metadata": {
        "colab": {
          "base_uri": "https://localhost:8080/"
        },
        "id": "8v1MC1zyomWJ",
        "outputId": "da114b32-55ab-4c4e-d5d7-b41f33199f94"
      },
      "execution_count": 23,
      "outputs": [
        {
          "output_type": "stream",
          "name": "stdout",
          "text": [
            "Enter the password: sjcbm,bdhsHJBSX\n",
            "Password characters: s, j, c, b, m, ,, b, d, h, s, H, J, B, S, X\n",
            "Length of the password: 15\n",
            "Password strength: Weak\n",
            "Length criteria met: True\n",
            "Uppercase criteria met: True\n",
            "Lowercase criteria met: True\n",
            "Digit criteria met: False\n",
            "Special character criteria met: True\n"
          ]
        }
      ]
    }
  ]
}